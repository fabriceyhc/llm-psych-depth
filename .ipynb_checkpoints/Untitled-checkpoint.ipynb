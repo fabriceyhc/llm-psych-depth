{
 "cells": [
  {
   "cell_type": "code",
   "execution_count": 2,
   "id": "0f30b565-2873-4766-b24b-2110898272f9",
   "metadata": {},
   "outputs": [],
   "source": [
    "import pandas as pd\n",
    "import glob"
   ]
  },
  {
   "cell_type": "code",
   "execution_count": 8,
   "id": "b715103f-4f59-47bb-a35e-4fe01c5c8660",
   "metadata": {},
   "outputs": [],
   "source": [
    "csv_files = glob.glob(\"./human_study/data/preprocessed/Story*\")"
   ]
  },
  {
   "cell_type": "code",
   "execution_count": 53,
   "id": "d01e63a1-0c67-4dd9-99b0-79000163868d",
   "metadata": {
    "scrolled": true
   },
   "outputs": [],
   "source": [
    "p_id = \"Participant ID\\n(This number is assigned to you by the study organizers. Please request for one if you have not received one. Thanks!)\"\n",
    "dfs = []\n",
    "for f in csv_files:\n",
    "    df = pd.read_csv(f).rename(columns={p_id:\"participant_id\"}).sort_values(by=\"participant_id\")\n",
    "    dfs.append(df)\n",
    "df = pd.concat(dfs)"
   ]
  },
  {
   "cell_type": "code",
   "execution_count": 66,
   "id": "2f931db4-f196-40e1-9767-9d98f651ba2a",
   "metadata": {},
   "outputs": [],
   "source": [
    "participant_id_col = \"participant_id\"\n",
    "\n",
    "mappings = [\n",
    "    (\"**authentic**\", \"authenticity\"),\n",
    "    (\"**empathy**\", \"empathy\"),\n",
    "    (\"**engaging**\", \"engagement\"),\n",
    "    (\"**provoke emotion**\", \"emotion_provoking\"),\n",
    "    (\"**narratively complex**\", \"narrative_complexity\")    \n",
    "]"
   ]
  },
  {
   "cell_type": "code",
   "execution_count": 67,
   "id": "800d1d12-04e9-405e-bbdd-ca961a38e5cd",
   "metadata": {},
   "outputs": [],
   "source": [
    "results = []\n",
    "\n",
    "for search_val, rename_val in mappings:\n",
    "    \n",
    "    # Extracting all variations of the 'authenticity' columns\n",
    "    target_columns = [col for col in df.columns if search_val in col.lower()]\n",
    "    target_df = df[target_columns + [participant_id_col]]\n",
    "    \n",
    "    # Step 2: Reshape Data\n",
    "    # Melt the DataFrame to transform the multiple component columns into rows\n",
    "    df_melted = pd.melt(target_df, \n",
    "                                  id_vars=[participant_id_col], \n",
    "                                  value_vars=target_columns, \n",
    "                                  var_name=f'{rename_val}_col', \n",
    "                                  value_name=f'{rename_val}_score')\n",
    "    \n",
    "    # Displaying the reshaped DataFrame for component\n",
    "    results.append(df_melted)\n"
   ]
  },
  {
   "cell_type": "code",
   "execution_count": 76,
   "id": "f698fd63-6dd9-4001-8b6d-529f025ee938",
   "metadata": {},
   "outputs": [],
   "source": [
    "keep_cols = [\"participant_id\", \"authenticity_score\", \"empathy_score\", \"engagement_score\", \"emotion_provoking_score\", \"narrative_complexity_score\"]\n",
    "\n",
    "df = pd.concat(results, axis=1)[keep_cols]\n",
    "df = df.loc[:, ~df.columns.duplicated()]\n",
    "df['story_id'] = df.index // 5"
   ]
  },
  {
   "cell_type": "code",
   "execution_count": 81,
   "id": "9002b482-06a7-45de-a843-cb53e2672efb",
   "metadata": {},
   "outputs": [],
   "source": [
    "final_cols = [\"participant_id\", \"story_id\", \"authenticity_score\", \"empathy_score\", \"engagement_score\", \"emotion_provoking_score\", \"narrative_complexity_score\"]\n",
    "\n",
    "df[final_cols].to_csv(\"./human_study/data/preprocessed/annotations.csv\")"
   ]
  },
  {
   "cell_type": "code",
   "execution_count": null,
   "id": "5c978c76-8fd3-4459-92b4-f7d8b3bf22d8",
   "metadata": {},
   "outputs": [],
   "source": []
  }
 ],
 "metadata": {
  "kernelspec": {
   "display_name": "Python 3 (ipykernel)",
   "language": "python",
   "name": "python3"
  },
  "language_info": {
   "codemirror_mode": {
    "name": "ipython",
    "version": 3
   },
   "file_extension": ".py",
   "mimetype": "text/x-python",
   "name": "python",
   "nbconvert_exporter": "python",
   "pygments_lexer": "ipython3",
   "version": "3.10.13"
  }
 },
 "nbformat": 4,
 "nbformat_minor": 5
}
