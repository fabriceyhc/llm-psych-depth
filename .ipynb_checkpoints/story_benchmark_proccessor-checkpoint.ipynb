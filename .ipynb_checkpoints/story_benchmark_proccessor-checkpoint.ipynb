{
 "cells": [
  {
   "cell_type": "code",
   "execution_count": 64,
   "id": "0b6116ea",
   "metadata": {},
   "outputs": [],
   "source": [
    "import glob\n",
    "import pandas as pd"
   ]
  },
  {
   "cell_type": "code",
   "execution_count": 42,
   "id": "012151a5",
   "metadata": {},
   "outputs": [],
   "source": [
    "human_story_details = glob.glob(\"./data/v3/*/*.json\")"
   ]
  },
  {
   "cell_type": "code",
   "execution_count": 77,
   "id": "efc224bd",
   "metadata": {},
   "outputs": [],
   "source": [
    "def fetch_story(story_id):\n",
    "    if not isinstance(story_id, str):\n",
    "        return None\n",
    "    human_stories = glob.glob(\"./data/v3/*/*.md\")\n",
    "    path = [path for path in human_stories if story_id in path][0]\n",
    "    f = open(path, 'r')\n",
    "    return f.read()"
   ]
  },
  {
   "cell_type": "code",
   "execution_count": 123,
   "id": "0b0c2600",
   "metadata": {},
   "outputs": [],
   "source": [
    "dfs = []\n",
    "for path in human_story_details:\n",
    "    df = pd.read_json(path).T\n",
    "    dfs.append(df)\n",
    "    \n",
    "df = pd.concat(dfs).reset_index().rename(columns={'index': 'key'})\n",
    "df = df[df[\"key\"] != \"gpt4\"]\n",
    "df[\"story_id\"] = df[\"url\"].str.extract('/comment/(\\w+)')\n",
    "df[\"text\"] = df[\"story_id\"].apply(fetch_story)"
   ]
  },
  {
   "cell_type": "code",
   "execution_count": 80,
   "id": "b486cf03",
   "metadata": {},
   "outputs": [],
   "source": [
    "df.to_csv(\"./data/human_stories.csv\")"
   ]
  },
  {
   "cell_type": "code",
   "execution_count": 126,
   "id": "644c2e06",
   "metadata": {},
   "outputs": [],
   "source": [
    "human_df = pd.read_csv(\"./data/human_stories.csv\", encoding='cp1252')"
   ]
  },
  {
   "cell_type": "code",
   "execution_count": 85,
   "id": "aed41539",
   "metadata": {},
   "outputs": [],
   "source": [
    "llm_stories = glob.glob(\"./llm_story_generation_results_v1/*/*/*\")"
   ]
  },
  {
   "cell_type": "code",
   "execution_count": 162,
   "id": "0c57d898",
   "metadata": {},
   "outputs": [],
   "source": [
    "model_map = {\n",
    "    \"meta-llama_Llama-2-7b-chat-hf\": \"Llama-2-7B\",  \n",
    "    \"meta-llama_Llama-2-13b-chat-hf\": \"Llama-2-13B\", \n",
    "    \"lmsys_vicuna-33b-v1.3\": \"Vicuna-33B\", \n",
    "    \"meta-llama_Llama-2-70b-chat-hf\": \"Llama-2-70B\",\n",
    "    \"gpt-4\": \"GPT-4\"    \n",
    "}"
   ]
  },
  {
   "cell_type": "code",
   "execution_count": 172,
   "id": "b560d2fb",
   "metadata": {
    "scrolled": false
   },
   "outputs": [],
   "source": [
    "dfs = []\n",
    "for path in llm_stories:\n",
    "    df = pd.read_json(path, typ='series').to_frame().T\n",
    "    df[\"strategy\"] = path.split(\"\\\\\")[-2]\n",
    "    df[\"story_id\"] = path.split(\"\\\\\")[-1].split(\"_\")[-1].replace(\".json\", \"\")\n",
    "    dfs.append(df)\n",
    "        \n",
    "llm_df = pd.concat(dfs)\n",
    "llm_df[\"model_short\"] = llm_df[\"model_name\"].apply(model_map.get)\n",
    "llm_df[\"characters\"] = llm_df[\"characters\"].str.strip()\n",
    "llm_df = llm_df.rename(columns={\n",
    "    \"output\": \"text\",\n",
    "    \"story_prompt\": \"prompt\"\n",
    "})\n",
    "llm_df = llm_df.drop(columns=\"id\")"
   ]
  },
  {
   "cell_type": "code",
   "execution_count": 173,
   "id": "ae37a35d",
   "metadata": {},
   "outputs": [],
   "source": [
    "llm_df.to_csv(\"./data/llm_stories.csv\")"
   ]
  },
  {
   "cell_type": "code",
   "execution_count": 174,
   "id": "30e621b8",
   "metadata": {},
   "outputs": [
    {
     "data": {
      "text/plain": [
       "Index(['model_name', 'prompt', 'characters', 'text', 'strategy', 'story_id',\n",
       "       'model_short'],\n",
       "      dtype='object')"
      ]
     },
     "execution_count": 174,
     "metadata": {},
     "output_type": "execute_result"
    }
   ],
   "source": [
    "llm_df.columns"
   ]
  },
  {
   "cell_type": "code",
   "execution_count": 175,
   "id": "d65ad5a7",
   "metadata": {},
   "outputs": [
    {
     "data": {
      "text/plain": [
       "Index(['story_id', 'prompt', 'text', 'net_upvotes', 'model_short'], dtype='object')"
      ]
     },
     "execution_count": 175,
     "metadata": {},
     "output_type": "execute_result"
    }
   ],
   "source": [
    "human_df.columns"
   ]
  },
  {
   "cell_type": "code",
   "execution_count": 176,
   "id": "4e38383e",
   "metadata": {
    "scrolled": true
   },
   "outputs": [],
   "source": [
    "df = pd.concat([human_df, llm_df])"
   ]
  },
  {
   "cell_type": "code",
   "execution_count": 178,
   "id": "184d8d95",
   "metadata": {},
   "outputs": [],
   "source": [
    "df.to_csv(\"./data/stories.csv\")"
   ]
  },
  {
   "cell_type": "code",
   "execution_count": null,
   "id": "09ea14f5",
   "metadata": {},
   "outputs": [],
   "source": []
  }
 ],
 "metadata": {
  "kernelspec": {
   "display_name": "Python 3 (ipykernel)",
   "language": "python",
   "name": "python3"
  },
  "language_info": {
   "codemirror_mode": {
    "name": "ipython",
    "version": 3
   },
   "file_extension": ".py",
   "mimetype": "text/x-python",
   "name": "python",
   "nbconvert_exporter": "python",
   "pygments_lexer": "ipython3",
   "version": "3.9.12"
  }
 },
 "nbformat": 4,
 "nbformat_minor": 5
}
