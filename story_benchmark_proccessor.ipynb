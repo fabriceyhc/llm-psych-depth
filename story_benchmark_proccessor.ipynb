{
 "cells": [
  {
   "cell_type": "code",
   "execution_count": 1,
   "id": "bf885ebd",
   "metadata": {},
   "outputs": [
    {
     "name": "stderr",
     "output_type": "stream",
     "text": [
      "C:\\Users\\fabriceyhc\\AppData\\Local\\Temp\\ipykernel_5808\\1309000459.py:2: DeprecationWarning: \n",
      "Pyarrow will become a required dependency of pandas in the next major release of pandas (pandas 3.0),\n",
      "(to allow more performant data types, such as the Arrow string type, and better interoperability with other libraries)\n",
      "but was not found to be installed on your system.\n",
      "If this would cause problems for you,\n",
      "please provide us feedback at https://github.com/pandas-dev/pandas/issues/54466\n",
      "        \n",
      "  import pandas as pd\n"
     ]
    }
   ],
   "source": [
    "import glob\n",
    "import pandas as pd"
   ]
  },
  {
   "cell_type": "code",
   "execution_count": 2,
   "id": "168ad9a8",
   "metadata": {},
   "outputs": [],
   "source": [
    "human_story_details = glob.glob(\"./data/v3/*/*.json\")"
   ]
  },
  {
   "cell_type": "code",
   "execution_count": 5,
   "id": "2315576b",
   "metadata": {},
   "outputs": [],
   "source": [
    "def fetch_story(story_id):\n",
    "    if not isinstance(story_id, str):\n",
    "        return None\n",
    "    human_stories = glob.glob(\"./data/v3/*/*.md\")\n",
    "    path = [path for path in human_stories if story_id in path][0]\n",
    "    f = open(path, 'r', encoding=\"utf8\")\n",
    "    return f.read()"
   ]
  },
  {
   "cell_type": "code",
   "execution_count": 38,
   "id": "8b747a60",
   "metadata": {},
   "outputs": [],
   "source": [
    "dfs = []\n",
    "for path in human_story_details:\n",
    "    df = pd.read_json(path, encoding='utf-8').T\n",
    "    dfs.append(df)\n",
    "    \n",
    "human_df = pd.concat(dfs).reset_index().rename(columns={'index': 'key'})\n",
    "human_df = human_df[human_df[\"key\"] != \"gpt4\"]\n",
    "human_df[\"story_id\"] = human_df[\"url\"].str.extract('/comment/(\\w+)')\n",
    "human_df[\"text\"] = human_df[\"story_id\"].apply(fetch_story)"
   ]
  },
  {
   "cell_type": "code",
   "execution_count": 40,
   "id": "6f32e463",
   "metadata": {},
   "outputs": [],
   "source": [
    "human_df.to_csv(\"./data/human_stories_2.csv\", encoding='utf-8')"
   ]
  },
  {
   "cell_type": "code",
   "execution_count": 126,
   "id": "d9d05fcd",
   "metadata": {},
   "outputs": [],
   "source": [
    "# human_df = pd.read_csv(\"./data/human_stories.csv\", encoding='cp1252')"
   ]
  },
  {
   "cell_type": "code",
   "execution_count": 16,
   "id": "56bc0702",
   "metadata": {},
   "outputs": [],
   "source": [
    "llm_stories = glob.glob(\"./llm_story_generation_results_v1/*/*/*\")"
   ]
  },
  {
   "cell_type": "code",
   "execution_count": 17,
   "id": "b7295612",
   "metadata": {},
   "outputs": [],
   "source": [
    "model_map = {\n",
    "    \"meta-llama_Llama-2-7b-chat-hf\": \"Llama-2-7B\",  \n",
    "    \"meta-llama_Llama-2-13b-chat-hf\": \"Llama-2-13B\", \n",
    "    \"lmsys_vicuna-33b-v1.3\": \"Vicuna-33B\", \n",
    "    \"meta-llama_Llama-2-70b-chat-hf\": \"Llama-2-70B\",\n",
    "    \"gpt-4\": \"GPT-4\"    \n",
    "}"
   ]
  },
  {
   "cell_type": "code",
   "execution_count": 18,
   "id": "dff73eba",
   "metadata": {},
   "outputs": [],
   "source": [
    "dfs = []\n",
    "for path in llm_stories:\n",
    "    df = pd.read_json(path, typ='series').to_frame().T\n",
    "    df[\"strategy\"] = path.split(\"\\\\\")[-2]\n",
    "    df[\"story_id\"] = path.split(\"\\\\\")[-1].split(\"_\")[-1].replace(\".json\", \"\")\n",
    "    dfs.append(df)\n",
    "        \n",
    "llm_df = pd.concat(dfs)\n",
    "llm_df[\"model_short\"] = llm_df[\"model_name\"].apply(model_map.get)\n",
    "llm_df[\"characters\"] = llm_df[\"characters\"].str.strip()\n",
    "llm_df[\"output\"] = llm_df[\"output\"].str.strip()\n",
    "llm_df = llm_df.rename(columns={\n",
    "    \"output\": \"text\",\n",
    "    \"story_prompt\": \"prompt\"\n",
    "})\n",
    "llm_df = llm_df.drop(columns=\"id\")"
   ]
  },
  {
   "cell_type": "code",
   "execution_count": 37,
   "id": "7954d925",
   "metadata": {},
   "outputs": [],
   "source": [
    "llm_df.to_csv(\"./data/llm_stories_2.csv\", encoding='utf-8')"
   ]
  },
  {
   "cell_type": "code",
   "execution_count": 22,
   "id": "9953d981",
   "metadata": {},
   "outputs": [
    {
     "data": {
      "text/plain": [
       "Index(['model_name', 'prompt', 'characters', 'text', 'strategy', 'story_id',\n",
       "       'model_short'],\n",
       "      dtype='object')"
      ]
     },
     "execution_count": 22,
     "metadata": {},
     "output_type": "execute_result"
    }
   ],
   "source": [
    "llm_df.columns"
   ]
  },
  {
   "cell_type": "code",
   "execution_count": 23,
   "id": "1116b2d9",
   "metadata": {},
   "outputs": [
    {
     "data": {
      "text/plain": [
       "Index(['key', 'url', 'net_upvotes', 'id', 'story_id', 'text'], dtype='object')"
      ]
     },
     "execution_count": 23,
     "metadata": {},
     "output_type": "execute_result"
    }
   ],
   "source": [
    "human_df.columns"
   ]
  },
  {
   "cell_type": "code",
   "execution_count": 24,
   "id": "ad4f7d53",
   "metadata": {
    "scrolled": true
   },
   "outputs": [],
   "source": [
    "df = pd.concat([human_df, llm_df])"
   ]
  },
  {
   "cell_type": "code",
   "execution_count": 25,
   "id": "08a73ce9",
   "metadata": {},
   "outputs": [],
   "source": [
    "# df.to_csv(\"./data/stories.csv\")"
   ]
  },
  {
   "cell_type": "code",
   "execution_count": null,
   "id": "bdbc3f94-cb76-4a96-b3f4-2bea3055de32",
   "metadata": {},
   "outputs": [],
   "source": []
  },
  {
   "cell_type": "code",
   "execution_count": null,
   "id": "46e4703a-4d7b-4374-b365-5329c95ba3e8",
   "metadata": {},
   "outputs": [],
   "source": []
  },
  {
   "cell_type": "code",
   "execution_count": 29,
   "id": "a59844c4-4d7b-4cd7-a5a4-cb772cc48561",
   "metadata": {},
   "outputs": [],
   "source": [
    "# Load the CSV file with appropriate encoding\n",
    "file_path = './data/stories.csv'  # Update this path to your file location\n",
    "df = pd.read_csv(file_path, encoding='ISO-8859-1')"
   ]
  },
  {
   "cell_type": "code",
   "execution_count": 31,
   "id": "f6ce5014-621f-4faf-8925-54e1d65b17da",
   "metadata": {},
   "outputs": [],
   "source": [
    "# Define a mapping of common misencoded characters to their likely intended ASCII counterparts\n",
    "replacement_map = {\n",
    "    'ý': \"'\",  # Assuming 'ý' was intended to be an apostrophe\n",
    "    '“': '\"',  # Opening curly quote to straight quote\n",
    "    '”': '\"',  # Closing curly quote to straight quote\n",
    "    '‘': \"'\",  # Opening single curly quote to straight apostrophe\n",
    "    '’': \"'\",  # Closing single curly quote to straight apostrophe\n",
    "    '—': '-',  # Em dash to hyphen\n",
    "    '–': '-'   # En dash to hyphen\n",
    "}\n",
    "\n",
    "# Function to replace characters based on the mapping\n",
    "def replace_characters(text, mapping):\n",
    "    for wrong, correct in mapping.items():\n",
    "        text = text.replace(wrong, correct)\n",
    "    return text\n",
    "\n",
    "# Apply the character replacements to the 'text' column\n",
    "df['text'] = df['text'].apply(lambda x: replace_characters(x, replacement_map))\n",
    "\n",
    "# Function to correct sequences of apostrophes that might represent double quotes or other misinterpretations\n",
    "def correct_sequences(text):\n",
    "    # Replace sequences of two or more apostrophes with double quotes\n",
    "    text = text.replace(\"''''''\", '\"')\n",
    "    text = text.replace(\"''''\", '\"')\n",
    "    text = text.replace(\"'''\", '\"')\n",
    "    return text\n",
    "\n",
    "# Apply the sequence corrections to the 'text' column\n",
    "df['text'] = df['text'].apply(correct_sequences)\n",
    "\n",
    "# # Optionally, save the cleaned data back to a CSV file\n",
    "# output_file_path = 'path_to_your_output_file.csv'  # Update this path to your desired output location\n",
    "# df.to_csv(output_file_path, index=False, encoding='utf-8')\n",
    "\n",
    "# print(\"Data cleaning complete and saved to:\", output_file_path)\n"
   ]
  },
  {
   "cell_type": "code",
   "execution_count": 33,
   "id": "707242fa-bbf1-4f3b-a327-c67acbeb8935",
   "metadata": {},
   "outputs": [],
   "source": [
    "df.to_csv(file_path, index=False, encoding='utf-8')"
   ]
  },
  {
   "cell_type": "code",
   "execution_count": null,
   "id": "9e49f648-773f-4483-aeae-cf8a6090898d",
   "metadata": {},
   "outputs": [],
   "source": []
  }
 ],
 "metadata": {
  "kernelspec": {
   "display_name": "Python 3 (ipykernel)",
   "language": "python",
   "name": "python3"
  },
  "language_info": {
   "codemirror_mode": {
    "name": "ipython",
    "version": 3
   },
   "file_extension": ".py",
   "mimetype": "text/x-python",
   "name": "python",
   "nbconvert_exporter": "python",
   "pygments_lexer": "ipython3",
   "version": "3.10.13"
  }
 },
 "nbformat": 4,
 "nbformat_minor": 5
}
